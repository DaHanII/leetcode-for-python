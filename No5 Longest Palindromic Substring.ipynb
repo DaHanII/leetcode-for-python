{
 "cells": [
  {
   "cell_type": "code",
   "execution_count": 14,
   "metadata": {},
   "outputs": [],
   "source": [
    "class Solution:\n",
    "    def longestPalindrome(self, s):\n",
    "        \"\"\"\n",
    "        :type s: str\n",
    "        :rtype: str\n",
    "        \"\"\"\n",
    "        if len(s) < 1:\n",
    "            return \"\"\n",
    "        start, end = 0, 0\n",
    "        for i in range(len(s)):\n",
    "            len1 = self.expandAroundCenters(s, i, i)\n",
    "            len2 = self.expandAroundCenters(s, i, i+1)\n",
    "            length = max(len1,len2)\n",
    "            if length > (end-start):\n",
    "                start = i - (length-1) // 2\n",
    "                end = i + length // 2\n",
    "        return s [ start: end + 1]\n",
    "    \n",
    "    def expandAroundCenters(self,s,left,right):\n",
    "        while left>= 0 and right < len(s) and s[left] == s[right]:\n",
    "            left -= 1\n",
    "            right += 1\n",
    "        return right-left-1"
   ]
  },
  {
   "cell_type": "code",
   "execution_count": 15,
   "metadata": {},
   "outputs": [],
   "source": [
    "test = Solution()\n",
    "s = \"a\"\n",
    "result = test.longestPalindrome(s)"
   ]
  },
  {
   "cell_type": "code",
   "execution_count": 16,
   "metadata": {},
   "outputs": [
    {
     "data": {
      "text/plain": [
       "'a'"
      ]
     },
     "execution_count": 16,
     "metadata": {},
     "output_type": "execute_result"
    }
   ],
   "source": [
    "result"
   ]
  },
  {
   "cell_type": "code",
   "execution_count": null,
   "metadata": {},
   "outputs": [],
   "source": []
  }
 ],
 "metadata": {
  "kernelspec": {
   "display_name": "Python 3",
   "language": "python",
   "name": "python3"
  },
  "language_info": {
   "codemirror_mode": {
    "name": "ipython",
    "version": 3
   },
   "file_extension": ".py",
   "mimetype": "text/x-python",
   "name": "python",
   "nbconvert_exporter": "python",
   "pygments_lexer": "ipython3",
   "version": "3.5.4"
  }
 },
 "nbformat": 4,
 "nbformat_minor": 2
}
