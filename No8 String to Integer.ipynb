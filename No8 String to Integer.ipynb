{
 "cells": [
  {
   "cell_type": "code",
   "execution_count": 3,
   "metadata": {},
   "outputs": [],
   "source": [
    "class Solution:\n",
    "    def myAtoi(self, str):\n",
    "        \"\"\"\n",
    "        :type str: str\n",
    "        :rtype: int\n",
    "        \"\"\"\n",
    "        INT_MAX = 2**31-1; INT_MIN = -2**31\n",
    "        temp = str.lstrip()\n",
    "        if len(temp) == 0:\n",
    "            return 0\n",
    "        size = 0\n",
    "        result = []\n",
    "        sign = 1\n",
    "        i = 0\n",
    "        if temp[0] == '-' or temp[0] == '+':\n",
    "            if len(temp) == 1: return 0\n",
    "            if temp[0] == '-':\n",
    "                sign = -1\n",
    "            if temp[1].isdigit() == False:\n",
    "                return 0\n",
    "            else:\n",
    "                temp = temp[1: ]\n",
    "        else:\n",
    "            if temp[0].isdigit() == False:\n",
    "                return 0\n",
    "        while size < len(temp) and temp[size].isspace() == False:\n",
    "            size += 1\n",
    "        while i < size and temp[i].isdigit():\n",
    "            result.append(temp[i])\n",
    "            i += 1\n",
    "        result = int(''.join(result))\n",
    "        result = result*sign\n",
    "        if result > 2**31-1:\n",
    "            return 2**31-1\n",
    "        elif result < -2**31:\n",
    "            return -2**31\n",
    "        else:\n",
    "            return result       "
   ]
  },
  {
   "cell_type": "code",
   "execution_count": 7,
   "metadata": {},
   "outputs": [
    {
     "name": "stdout",
     "output_type": "stream",
     "text": [
      "-425\n"
     ]
    }
   ],
   "source": [
    "str = \"   -425a5\"\n",
    "test = Solution()\n",
    "result = test.myAtoi(str)\n",
    "print(result)"
   ]
  },
  {
   "cell_type": "code",
   "execution_count": 9,
   "metadata": {},
   "outputs": [
    {
     "data": {
      "text/plain": [
       "4"
      ]
     },
     "execution_count": 9,
     "metadata": {},
     "output_type": "execute_result"
    }
   ],
   "source": [
    "str = \"   -42\"\n",
    "str = str.lstrip()\n",
    "int(str[1]) "
   ]
  },
  {
   "cell_type": "code",
   "execution_count": null,
   "metadata": {},
   "outputs": [],
   "source": []
  }
 ],
 "metadata": {
  "kernelspec": {
   "display_name": "Python 3",
   "language": "python",
   "name": "python3"
  },
  "language_info": {
   "codemirror_mode": {
    "name": "ipython",
    "version": 3
   },
   "file_extension": ".py",
   "mimetype": "text/x-python",
   "name": "python",
   "nbconvert_exporter": "python",
   "pygments_lexer": "ipython3",
   "version": "3.5.4"
  }
 },
 "nbformat": 4,
 "nbformat_minor": 2
}
