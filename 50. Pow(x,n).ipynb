{
 "cells": [
  {
   "cell_type": "markdown",
   "metadata": {},
   "source": [
    "Implement pow(x, n), which calculates x raised to the power n (xn).\n",
    "\n",
    "Example 1:\n",
    "\n",
    "Input: 2.00000, 10\n",
    "Output: 1024.00000\n",
    "\n",
    "Example 2:\n",
    "\n",
    "Input: 2.10000, 3\n",
    "Output: 9.26100\n",
    "\n",
    "Example 3:\n",
    "\n",
    "Input: 2.00000, -2\n",
    "Output: 0.25000\n",
    "Explanation: 2-2 = 1/22 = 1/4 = 0.25\n",
    "\n",
    "Note:\n",
    "\n",
    "    -100.0 < x < 100.0\n",
    "    n is a 32-bit signed integer, within the range [−231, 231 − 1]"
   ]
  },
  {
   "cell_type": "markdown",
   "metadata": {},
   "source": [
    "思路：\n",
    "传统的方法即一个一个相乘并不可取，因为如果n过大，那么时间会过长\n",
    "所以使用二分法比较合适，时间复杂度为O(logn)\n",
    "之后就用算法书中的方法分 n%2的奇偶以及n为负数的情况讨论"
   ]
  },
  {
   "cell_type": "code",
   "execution_count": 4,
   "metadata": {},
   "outputs": [],
   "source": [
    "class Solution:\n",
    "    def myPow(self, x: float, n: int) -> float:\n",
    "        if x == 0:\n",
    "            return 0\n",
    "        if n == 0:\n",
    "            return 1.0\n",
    "        elif n < 0:\n",
    "            return 1 / self.myPow(x, -n)\n",
    "        elif n % 2:\n",
    "            return self.myPow(x*x,n//2)*x     # n/2 will be float while n//2 will be integer\n",
    "        else:\n",
    "            return self.myPow(x*x,n//2)"
   ]
  },
  {
   "cell_type": "code",
   "execution_count": 5,
   "metadata": {},
   "outputs": [],
   "source": [
    "test = Solution()\n",
    "x, n = 2, 5\n",
    "ans = test.myPow(x,n)"
   ]
  },
  {
   "cell_type": "code",
   "execution_count": null,
   "metadata": {},
   "outputs": [],
   "source": []
  }
 ],
 "metadata": {
  "kernelspec": {
   "display_name": "Python 3",
   "language": "python",
   "name": "python3"
  },
  "language_info": {
   "codemirror_mode": {
    "name": "ipython",
    "version": 3
   },
   "file_extension": ".py",
   "mimetype": "text/x-python",
   "name": "python",
   "nbconvert_exporter": "python",
   "pygments_lexer": "ipython3",
   "version": "3.7.1"
  }
 },
 "nbformat": 4,
 "nbformat_minor": 2
}
