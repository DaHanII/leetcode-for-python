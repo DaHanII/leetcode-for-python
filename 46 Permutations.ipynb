{
 "cells": [
  {
   "cell_type": "markdown",
   "metadata": {},
   "source": [
    "Description:\n",
    "Given a collection of distinct integers, return all possible permutations.\n",
    "\n",
    "Example:\n",
    "\n",
    "Input: [1,2,3]\n",
    "Output:\n",
    "[\n",
    "  [1,2,3],\n",
    "  [1,3,2],\n",
    "  [2,1,3],\n",
    "  [2,3,1],\n",
    "  [3,1,2],\n",
    "  [3,2,1]"
   ]
  },
  {
   "cell_type": "markdown",
   "metadata": {},
   "source": [
    "思路：\n",
    "递归思路解决，即\n",
    "1 --> 2 --> 2\n",
    "  --> 3 --> 2\n",
    "2 --> 1 --> 3\n",
    "  --> 3 --> 1\n",
    "3 --> 1 --> 2\n",
    "  --> 2 --> 1"
   ]
  },
  {
   "cell_type": "code",
   "execution_count": 6,
   "metadata": {},
   "outputs": [],
   "source": [
    "class Solution:\n",
    "    def permute(self, nums):\n",
    "        sorted(nums)\n",
    "        self.result = []\n",
    "        sub = []\n",
    "        self.dfs(nums,sub)\n",
    "        return self.result\n",
    "    \n",
    "    def dfs(self, nums, sublist):\n",
    "        if len(sublist) == len(nums):   # no element to append\n",
    "            self.result.append(sublist[:])\n",
    "        for m in nums:\n",
    "            if m in sublist:   # if m is already in sublist\n",
    "                continue\n",
    "            sublist.append(m)\n",
    "            self.dfs(nums,sublist)    #recurison\n",
    "            sublist.remove(m)      # remove elements"
   ]
  },
  {
   "cell_type": "markdown",
   "metadata": {},
   "source": [
    "sorted(nums)  为数组排序"
   ]
  },
  {
   "cell_type": "code",
   "execution_count": 7,
   "metadata": {},
   "outputs": [],
   "source": [
    "#test case\n",
    "nums = [1,2,3]\n",
    "test = Solution()\n",
    "res = test.permute(nums)"
   ]
  },
  {
   "cell_type": "code",
   "execution_count": 8,
   "metadata": {},
   "outputs": [
    {
     "data": {
      "text/plain": [
       "[[1, 2, 3], [1, 3, 2], [2, 1, 3], [2, 3, 1], [3, 1, 2], [3, 2, 1]]"
      ]
     },
     "execution_count": 8,
     "metadata": {},
     "output_type": "execute_result"
    }
   ],
   "source": [
    "res"
   ]
  }
 ],
 "metadata": {
  "kernelspec": {
   "display_name": "Python 3",
   "language": "python",
   "name": "python3"
  },
  "language_info": {
   "codemirror_mode": {
    "name": "ipython",
    "version": 3
   },
   "file_extension": ".py",
   "mimetype": "text/x-python",
   "name": "python",
   "nbconvert_exporter": "python",
   "pygments_lexer": "ipython3",
   "version": "3.7.1"
  }
 },
 "nbformat": 4,
 "nbformat_minor": 2
}
