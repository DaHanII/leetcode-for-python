{
 "cells": [
  {
   "cell_type": "code",
   "execution_count": 14,
   "metadata": {},
   "outputs": [],
   "source": [
    "class Solution:\n",
    "    def findMedianSortedArrays(self, nums1, nums2):\n",
    "        \"\"\"\n",
    "        :type nums1: List[int]\n",
    "        :type nums2: List[int]\n",
    "        :rtype: float\n",
    "        \"\"\"\n",
    "        m, n = len(nums1), len(nums2)\n",
    "        if m > n:\n",
    "            nums1, nums2, m ,n = nums2, nums1, n, m\n",
    "        if n == 0:\n",
    "            raise ValueError\n",
    "        \n",
    "        imin, imax, half_len = 0, m, (m + n + 1) // 2\n",
    "        while imin <= imax:\n",
    "            i = (imin + imax) // 2\n",
    "            j = half_len - 1 \n",
    "            if i < m and nums2[j-1] > nums1[i]:\n",
    "                imin = i + 1\n",
    "            elif i > 0 and nums1[i-1] > nums2[j]:\n",
    "                imax = i - 1\n",
    "            else:\n",
    "                if i == 0: \n",
    "                    max_of_left = nums2[j-1]\n",
    "                elif j == 0:\n",
    "                    max_of_left = nums1[i-1]\n",
    "                else:\n",
    "                    max_of_left = max(nums1[i-1],nums2[j-1])\n",
    "                if (m + n) % 2 == 1:\n",
    "                    return max_of_left\n",
    "                \n",
    "                if i == m: min_of_right = nums2[j]\n",
    "                elif j == n: min_of_right = nums1[i]\n",
    "                else: min_of_right = min(nums1[i], nums2[j])\n",
    "                \n",
    "                return (max_of_left + min_of_right) / 2.0   "
   ]
  },
  {
   "cell_type": "code",
   "execution_count": 15,
   "metadata": {},
   "outputs": [],
   "source": [
    "nums1 = [1,3,5,7]\n",
    "nums2 = [2,4]\n",
    "test = Solution()\n",
    "median = test.findMedianSortedArrays(nums1,nums2)"
   ]
  },
  {
   "cell_type": "code",
   "execution_count": 16,
   "metadata": {},
   "outputs": [
    {
     "data": {
      "text/plain": [
       "3.5"
      ]
     },
     "execution_count": 16,
     "metadata": {},
     "output_type": "execute_result"
    }
   ],
   "source": [
    "median\n"
   ]
  },
  {
   "cell_type": "code",
   "execution_count": null,
   "metadata": {},
   "outputs": [],
   "source": []
  }
 ],
 "metadata": {
  "kernelspec": {
   "display_name": "Python 3",
   "language": "python",
   "name": "python3"
  },
  "language_info": {
   "codemirror_mode": {
    "name": "ipython",
    "version": 3
   },
   "file_extension": ".py",
   "mimetype": "text/x-python",
   "name": "python",
   "nbconvert_exporter": "python",
   "pygments_lexer": "ipython3",
   "version": "3.5.4"
  }
 },
 "nbformat": 4,
 "nbformat_minor": 2
}
