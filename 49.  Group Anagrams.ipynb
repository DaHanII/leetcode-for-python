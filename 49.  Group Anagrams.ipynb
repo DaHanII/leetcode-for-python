{
 "cells": [
  {
   "cell_type": "markdown",
   "metadata": {},
   "source": [
    "Description：\n",
    "Given an array of strings, group anagrams together.\n",
    "\n",
    "Example:\n",
    "\n",
    "Input: [\"eat\", \"tea\", \"tan\", \"ate\", \"nat\", \"bat\"],\n",
    "Output:\n",
    "[\n",
    "  [\"ate\",\"eat\",\"tea\"],\n",
    "  [\"nat\",\"tan\"],\n",
    "  [\"bat\"]\n",
    "]"
   ]
  },
  {
   "cell_type": "markdown",
   "metadata": {},
   "source": [
    "思路：\n",
    "把字符串排好序的结果作为key，同一个key的字符串组成的队列作为value，构建一个字典。然后将字典的value排序，append到结果返回。"
   ]
  },
  {
   "cell_type": "code",
   "execution_count": 2,
   "metadata": {},
   "outputs": [],
   "source": [
    "class Solution:\n",
    "    def groupAnagrams(self, strs):\n",
    "        \"\"\"\n",
    "        :type strs: List[str]\n",
    "        :rtype: List[List[str]]\n",
    "        \"\"\"\n",
    "        d,ans= {},[]\n",
    "        for i in strs:\n",
    "            sortstr = ''.join(sorted(i))\n",
    "            if sortstr in d:\n",
    "                d[sortstr] += [i]\n",
    "            else:\n",
    "                d[sortstr] = [i]\n",
    "        #print(d)\n",
    "        for i in d:    # 遍历\n",
    "            tmp = d[i];tmp.sort()\n",
    "            ans += [tmp]    # result format\n",
    "        return ans"
   ]
  },
  {
   "cell_type": "markdown",
   "metadata": {},
   "source": [
    "字典添加元素：\n",
    "if sortstr in d:\n",
    "                d[sortstr] += [i]\n",
    "            else:\n",
    "                d[sortstr] = [i]\n",
    "结果：{sortstr:[i]}"
   ]
  },
  {
   "cell_type": "code",
   "execution_count": 3,
   "metadata": {},
   "outputs": [],
   "source": [
    "input = [\"eat\", \"tea\", \"tan\", \"ate\", \"nat\", \"bat\"]\n",
    "test = Solution()\n",
    "ans = test.groupAnagrams(input)"
   ]
  },
  {
   "cell_type": "code",
   "execution_count": null,
   "metadata": {},
   "outputs": [],
   "source": []
  }
 ],
 "metadata": {
  "kernelspec": {
   "display_name": "Python 3",
   "language": "python",
   "name": "python3"
  },
  "language_info": {
   "codemirror_mode": {
    "name": "ipython",
    "version": 3
   },
   "file_extension": ".py",
   "mimetype": "text/x-python",
   "name": "python",
   "nbconvert_exporter": "python",
   "pygments_lexer": "ipython3",
   "version": "3.7.1"
  }
 },
 "nbformat": 4,
 "nbformat_minor": 2
}
