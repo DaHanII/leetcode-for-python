{
 "cells": [
  {
   "cell_type": "markdown",
   "metadata": {},
   "source": [
    "Description：\n",
    "Given two non-negative integers num1 and num2 represented as strings, return the product of num1 and num2, also represented as a string.\n",
    "\n",
    "Example 1:\n",
    "\n",
    "Input: num1 = \"2\", num2 = \"3\"\n",
    "Output: \"6\"\n",
    "\n",
    "Example 2:\n",
    "\n",
    "Input: num1 = \"123\", num2 = \"456\"\n",
    "Output: \"56088\"\n",
    "\n",
    "Note:\n",
    "\n",
    "    The length of both num1 and num2 is < 110.\n",
    "    Both num1 and num2 contain only digits 0-9.\n",
    "    Both num1 and num2 do not contain any leading zero, except the number 0 itself.\n",
    "    You must not use any built-in BigInteger library or convert the inputs to integer directly.\n"
   ]
  },
  {
   "cell_type": "markdown",
   "metadata": {},
   "source": [
    "思路：\n",
    "两个非负数字字符串的相乘。其实就是大数乘法。算法的关键是要先将两个字符串翻转过来，然后按位进行相乘，相乘后的数不要着急进位，而是存储在一个数组里面，然后将数组中的数对10进行求余（%），就是这一位的数，然后除以10，即//10，就是进位的数。注意最后要将相乘后的字符串前面的0去掉。"
   ]
  },
  {
   "cell_type": "code",
   "execution_count": 5,
   "metadata": {},
   "outputs": [],
   "source": [
    "class Solution:\n",
    "    def multiply(self, num1, num2):\n",
    "        n1, n2 = len(num1), len(num2)\n",
    "        k = n1 + n2 - 2\n",
    "        tempresult = [0]*(n1+n2)\n",
    "        for i in range(n1):\n",
    "            for j in range(n2):\n",
    "                tempresult[k-i-j] += (ord(num1[i])-ord(\"0\"))*(ord(num2[j])-ord('0'))   #front to back\n",
    "        carryBit = 0\n",
    "        for i in range(n1+n2):\n",
    "            tempresult[i] += carryBit\n",
    "            carryBit = tempresult[i] // 10\n",
    "            tempresult[i] %= 10\n",
    "        i = k+1\n",
    "        while tempresult[i] == 0: #eliminate 0 before result\n",
    "            i -= 1\n",
    "        if(i<0):       #result is 0\n",
    "            return \"0\"\n",
    "        result = \"\"\n",
    "        while i >= 0: \n",
    "            result += chr(tempresult[i] + ord('0'))     #front to back\n",
    "            i -= 1\n",
    "        return result"
   ]
  },
  {
   "cell_type": "markdown",
   "metadata": {},
   "source": [
    "为什么k = n1+n2-2? 因为比如123*100，123*100 = 12300, 结果应为5到6位，所以k = 4\n",
    "char与相应的unicode码转换：ord函数与chr函数\n",
    "ord(\"3\")-ord(\"0\") = 3\n",
    "chr(3+ord(\"0\")) = \"3\""
   ]
  },
  {
   "cell_type": "code",
   "execution_count": 3,
   "metadata": {},
   "outputs": [
    {
     "name": "stdout",
     "output_type": "stream",
     "text": [
      "56088\n"
     ]
    }
   ],
   "source": [
    "#test case\n",
    "s1 = \"123\"\n",
    "s2 = \"456\"\n",
    "test = Solution()\n",
    "result = test.multiply(s1,s2)\n",
    "print(result)"
   ]
  }
 ],
 "metadata": {
  "kernelspec": {
   "display_name": "Python 3",
   "language": "python",
   "name": "python3"
  },
  "language_info": {
   "codemirror_mode": {
    "name": "ipython",
    "version": 3
   },
   "file_extension": ".py",
   "mimetype": "text/x-python",
   "name": "python",
   "nbconvert_exporter": "python",
   "pygments_lexer": "ipython3",
   "version": "3.7.1"
  }
 },
 "nbformat": 4,
 "nbformat_minor": 2
}
